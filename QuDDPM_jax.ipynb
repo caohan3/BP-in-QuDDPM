{
 "cells": [
  {
   "cell_type": "code",
   "execution_count": null,
   "metadata": {},
   "outputs": [],
   "source": [
    "import os\n",
    "os.environ['TF_ENABLE_ONEDNN_OPTS'] = '0'\n",
    "\n",
    "from tensorflow.python.ops.numpy_ops import np_config\n",
    "np_config.enable_numpy_behavior()\n",
    "\n",
    "from scipy.special import kl_div\n",
    "import pennylane as qml \n",
    "from pennylane import qaoa\n",
    "# from pennylane import numpy as np\n",
    "import math\n",
    "import random\n",
    "import autograd.numpy as np\n",
    "import numpy.linalg as la\n",
    "\n",
    "import jax\n",
    "import jax.numpy as jnp\n",
    "import jax.lax as lax\n",
    "import gc\n",
    "\n",
    "import optax\n",
    "\n",
    "from pandarallel import pandarallel\n",
    "\n",
    "pandarallel.initialize()\n",
    "jax.config.update('jax_enable_x64', True)\n",
    "\n",
    "np.random.seed(2025)"
   ]
  },
  {
   "cell_type": "code",
   "execution_count": null,
   "metadata": {},
   "outputs": [],
   "source": [
    "# number of the data qubits\n",
    "n=8\n",
    "\n",
    "# umber of the ancilla qubits\n",
    "n_A=3\n",
    "\n",
    "# number of the training cycles\n",
    "T=30\n",
    "\n",
    "# The number of circuit layers of the denosing circuit PQC\n",
    "L=5\n",
    "\n",
    "# The number of states in the state set taken during the denosing process\n",
    "N_data=100\n",
    "\n",
    "# The number of states in the state set taken during the forward diffusion process\n",
    "N_All_set=500\n",
    "\n",
    "# iterations\n",
    "epoch=300\n",
    "\n",
    "# learning rate\n",
    "lr = 0.005\n",
    "\n",
    "# Parameters used to control the rate of diffusion in the original QuDDPM\n",
    "h_s = 1\n",
    "h_e = 4\n",
    "\n",
    "# # Parameters used to control the rate of diffusion in the improved QuDDPM\n",
    "# h_s = 0.1\n",
    "# h_e = 0.4\n",
    "\n",
    "diff_hs = np.linspace(h_s, h_e, T)\n",
    "\n",
    "file_path = 'original'"
   ]
  },
  {
   "cell_type": "markdown",
   "metadata": {},
   "source": [
    "#### Forward diffusion circuit"
   ]
  },
  {
   "cell_type": "code",
   "execution_count": null,
   "metadata": {},
   "outputs": [],
   "source": [
    "dev = qml.device('default.qubit', wires=n)\n",
    "\n",
    "@qml.qnode(dev, interface='jax')\n",
    "def QSC(input_state, phi_t, g_t):\n",
    "    qml.QubitStateVector(input_state, wires=range(n))\n",
    "    for i in range(n):\n",
    "        qml.RZ(phi_t[i][0], wires=i)\n",
    "        qml.RY(phi_t[i][1], wires=i)\n",
    "        qml.RZ(phi_t[i][2], wires=i)\n",
    "    for i in range(n):\n",
    "        for j in range(i):\n",
    "            cost_h = qml.Hamiltonian([1/(2*n ** 0.5)],[qml.Z(j) @ qml.Z(i)])\n",
    "            qaoa.cost_layer(g_t,cost_h)\n",
    "    return qml.state()\n",
    "\n",
    "QSC_jit = jax.jit(QSC)\n",
    "\n",
    "def forward_nosiy_process(input_state, diff_hs):\n",
    "    phi = np.random.uniform(0, 1, size=(T, N_All_set, n, 3))*np.pi/4-np.pi/8\n",
    "    g = np.random.uniform(0, 1, size=(T, N_All_set))*0.2+0.4\n",
    "    diff_state = np.zeros((T+1, N_All_set, 2**n), dtype=complex)\n",
    "    diff_state[0] = input_state\n",
    "    for t in range(T):\n",
    "        for i in range(N_All_set):\n",
    "            diff_state[t+1][i] = np.array(QSC_jit(diff_state[t][i],phi[t][i]*diff_hs[t], g[t][i]*diff_hs[t]))\n",
    "    return diff_state"
   ]
  },
  {
   "cell_type": "markdown",
   "metadata": {},
   "source": [
    "### Backward denosing circuit"
   ]
  },
  {
   "cell_type": "code",
   "execution_count": null,
   "metadata": {},
   "outputs": [],
   "source": [
    "dev_QPC_measurement = qml.device('default.qubit', wires=n_A, shots=1)\n",
    "\n",
    "# Obtain the measurement results\n",
    "@qml.qnode(dev_QPC_measurement, interface='jax')\n",
    "def PQC_measurement(theta_t):\n",
    "    for l in range(L):\n",
    "        l_index = l*(n+n_A)*2\n",
    "        for i in range(n_A):\n",
    "            i_index = i*2\n",
    "            qml.RX(theta_t[l_index+i_index], wires=i)\n",
    "            qml.RY(theta_t[l_index+i_index+1], wires=i)\n",
    "        for i in range((n_A)//2):\n",
    "            qml.CZ(wires=[2*i, 2*i+1])\n",
    "        for i in range((n_A-1)//2):       \n",
    "            qml.CZ(wires=[2*i+1, 2*i+2])\n",
    "    measurements = [qml.sample(qml.PauliZ(wires=[wire])) for wire in range(n_A)]\n",
    "    return measurements\n",
    "PQC_measurement_jit = jax.jit(PQC_measurement)\n",
    "\n",
    "# PQCs\n",
    "dev_QPC_state = qml.device('default.qubit', wires=n+n_A)\n",
    "@qml.qnode(dev_QPC_state, interface='jax')\n",
    "def PQC_state(input_state, theta_t):\n",
    "    qml.QubitStateVector(input_state, wires=range(n_A, n+n_A))\n",
    "    for l in range(L):\n",
    "        l_index = l*(n+n_A)*2\n",
    "        for i in range(n+n_A):\n",
    "            i_index = i*2\n",
    "            qml.RX(theta_t[l_index+i_index], wires=i)\n",
    "            qml.RY(theta_t[l_index+i_index+1], wires=i)\n",
    "        for i in range((n+n_A)//2):\n",
    "            qml.CZ(wires=[2*i, 2*i+1])\n",
    "        for i in range((n+n_A-1)//2):       \n",
    "            qml.CZ(wires=[2*i+1, 2*i+2])\n",
    "    return qml.state()\n",
    "PQC_state_jit = jax.jit(PQC_state)"
   ]
  },
  {
   "cell_type": "code",
   "execution_count": null,
   "metadata": {},
   "outputs": [],
   "source": [
    "# Extract the \"state of the data qubit\" from the state obtained by the PQCs based on the measurement results.\n",
    "def measure(input_state, theta_t):\n",
    "    measurement = PQC_measurement_jit(theta_t)\n",
    "    mask = jnp.stack(measurement) == -1\n",
    "    start =np.sum(mask*(2**(n+np.arange(n_A, 0, -1)-1)))\n",
    "    output_state = lax.dynamic_slice(input_state, (start,), (2**n,))\n",
    "    norm = jnp.sqrt(jnp.sum(jnp.abs(output_state)**2))\n",
    "    return output_state/norm\n",
    "measure_jit = jax.jit(measure)\n",
    "\n",
    "def get_worker_state(input_state, theta_t):\n",
    "    output_state = PQC_state_jit(input_state, theta_t)\n",
    "    worker_state = jnp.zeros((N_data, 2**n), dtype=jnp.complex128)\n",
    "    for i in range(N_data):\n",
    "        worker_state = worker_state.at[i].set(measure_jit(output_state[i], theta_t))\n",
    "    return worker_state\n",
    "get_worker_state_jit = jax.jit(get_worker_state)"
   ]
  },
  {
   "cell_type": "markdown",
   "metadata": {},
   "source": [
    "### Loss"
   ]
  },
  {
   "cell_type": "code",
   "execution_count": null,
   "metadata": {},
   "outputs": [],
   "source": [
    "def mean_fideliy(S_1, S_2):\n",
    "    fid = 1.-jnp.mean(jnp.abs(jnp.einsum('mi,ni->mn', jnp.conj(jnp.array(S_1)), jnp.array(S_2)))**2)\n",
    "    return fid\n",
    "\n",
    "def loss_MMD(theta_t, input_state, S_y):\n",
    "    S_x = get_worker_state(input_state, theta_t)\n",
    "    distance = 2*mean_fideliy(S_x, S_y)-mean_fideliy(S_y, S_y) - mean_fideliy(S_x, S_x)\n",
    "    return distance\n",
    "\n",
    "loss_mmd_jit = jax.jit(loss_MMD)\n",
    "grad_loss_mmd = jax.grad(loss_mmd_jit)"
   ]
  },
  {
   "cell_type": "markdown",
   "metadata": {},
   "source": [
    "### Generate the initial data (extended GHZ states)"
   ]
  },
  {
   "cell_type": "code",
   "execution_count": null,
   "metadata": {},
   "outputs": [],
   "source": [
    "def init_ghz_state():\n",
    "    state = np.zeros((N_All_set, 2**n))\n",
    "    t=np.random.uniform(0, 2*np.pi, N_All_set)\n",
    "    for i in range(N_All_set):\n",
    "        state[i][0] = math.cos(t[i]/2)\n",
    "        state[i][2**n-1] = math.sin(t[i]/2)\n",
    "    return state"
   ]
  },
  {
   "cell_type": "markdown",
   "metadata": {},
   "source": [
    "### Forward diffusion process"
   ]
  },
  {
   "cell_type": "code",
   "execution_count": null,
   "metadata": {},
   "outputs": [],
   "source": [
    "initial_state = init_ghz_state()\n",
    "diff_hs = np.linspace(h_s, h_e, T)\n",
    "S_y = forward_nosiy_process(initial_state, diff_hs)\n",
    "np.save('data/%s/state_diff/h%d_%dT%dNDate%depoch%dn%dn_A%d'%(file_path, h_s, h_e, T, N_data, epoch, n, n_A), np.array(S_y))"
   ]
  },
  {
   "cell_type": "markdown",
   "metadata": {},
   "source": [
    "### backward denoising process"
   ]
  },
  {
   "cell_type": "code",
   "execution_count": null,
   "metadata": {},
   "outputs": [],
   "source": [
    "# S_y represents each data set during the diffusion process\n",
    "S_y = np.load('data/%s/state_diff/h%d_%dT%dNDate%depoch%dn%dn_A%d.npy'%(file_path, h_s, h_e, T, N_data, epoch, n, n_A))"
   ]
  },
  {
   "cell_type": "markdown",
   "metadata": {},
   "source": [
    "#### original"
   ]
  },
  {
   "cell_type": "code",
   "execution_count": null,
   "metadata": {},
   "outputs": [],
   "source": [
    "dev = qml.device(\"default.qubit\", wires=n)\n",
    "\n",
    "# The haar random states are obtained through the random circuit\n",
    "@qml.qnode(dev)\n",
    "def haar_state(weights, seed=None):\n",
    "    qml.RandomLayers(weights=weights, wires=range(n), seed=seed)\n",
    "    return qml.state()\n",
    "\n",
    "haar_state_jit = jax.jit(haar_state)\n",
    "\n",
    "S_x = np.zeros(shape=(N_data, 2**n), dtype=np.complex128)\n",
    "for i in range(N_data):\n",
    "    n_layers = 3\n",
    "    weights = np.random.uniform(-np.pi, np.pi, size=(n_layers, 3))\n",
    "    seed = np.random.randint(0, N_data*100)\n",
    "    S_x[i] = haar_state(weights, seed)"
   ]
  },
  {
   "cell_type": "markdown",
   "metadata": {},
   "source": [
    "#### improved"
   ]
  },
  {
   "cell_type": "code",
   "execution_count": null,
   "metadata": {},
   "outputs": [],
   "source": [
    "# S_x = np.zeros(shape=(N_All_set, 2**n), dtype=np.complex128)\n",
    "# S_x[:, 0] = 1.\n",
    "# S_x = forward_nosiy_process(S_x, diff_hs)\n",
    "\n",
    "# sample_index = np.random.choice(np.arange(0, N_All_set), size=N_data, replace=False)\n",
    "# S_x=S_x[-1, sample_index]"
   ]
  },
  {
   "cell_type": "markdown",
   "metadata": {},
   "source": [
    "#### train"
   ]
  },
  {
   "cell_type": "code",
   "execution_count": null,
   "metadata": {},
   "outputs": [],
   "source": [
    "train_loss = np.zeros((T,epoch), dtype=float)\n",
    "theta = np.zeros((T, 2*(n+n_A)*L), dtype=float)\n",
    "Set = np.zeros((T, N_data, 2**n), dtype=np.complex128)\n",
    "grad_norm = []\n",
    "\n",
    "for t in range(T-1, -1, -1):\n",
    "    gc.collect()\n",
    "    jax.device_put(jax.random.normal(jax.random.PRNGKey(0), (1,)))\n",
    "\n",
    "    theta_t = qml.numpy.random.rand(2*(n+n_A)*L, requires_grad=True)\n",
    "    theta_t = jnp.array(theta_t)\n",
    "\n",
    "    optimizer = optax.sgd(learning_rate=lr)\n",
    "    opt_state = optimizer.init(theta_t)\n",
    "    \n",
    "    for step in range(epoch):\n",
    "        \n",
    "        y_sample_index = np.random.choice(np.arange(0, N_All_set), size=N_data, replace=False)\n",
    "        S_y_t = S_y[t, y_sample_index]\n",
    "\n",
    "        gradients = grad_loss_mmd(theta_t, S_x, S_y_t)\n",
    "        updates, opt_state = optimizer.update(gradients, opt_state, theta_t)\n",
    "        theta_t = optax.apply_updates(theta_t, updates)\n",
    "\n",
    "        gradients_np = jax.tree_util.tree_map(lambda x: np.array(x), gradients)\n",
    "        gradnorm = jnp.sqrt(sum(jnp.sum(jnp.square(g)) for g in jax.tree_util.tree_leaves(gradients_np)))\n",
    "\n",
    "        grad_norm.append(gradnorm)\n",
    "        train_loss[T-1-t][step] = loss_MMD(theta_t, S_x, S_y_t)\n",
    "\n",
    "        if step%10 ==0:\n",
    "\n",
    "            print(f'{step}------------------------------')\n",
    "            print(f\"grad_norm:{grad_norm[-1]}\")\n",
    "            print(f\"Training loss: {train_loss[T-1-t][step]}\")\n",
    "            print('------------------------------')\n",
    "            \n",
    "            \n",
    "            \n",
    "    theta[t] = theta_t\n",
    "    S_x = get_worker_state(S_x, theta_t)\n",
    "    Set[t] = S_x\n",
    "    print(f'--------------------------------------------------t:{t}')\n",
    "\n",
    "np.save('data/%s/train/h%d_%dT%dNDate%depoch%dn%dn_A%d'%(file_path, h_s, h_e, T, N_data, epoch, n, n_A), np.array(Set))\n",
    "np.save('data/%s/params/h%d_%dT%dNDate%depoch%dn%dn_A%d'%(file_path, h_s, h_e, T, N_data, epoch, n, n_A), np.array(theta))\n",
    "np.save('data/%s/loss/h%d_%dT%dNDate%depoch%dn%dn_A%d'%(file_path, h_s, h_e, T, N_data, epoch, n, n_A), train_loss)\n",
    "np.save('data/%s/grad/h%d_%dT%dNDate%depoch%dn%dn_A%d'%(file_path, h_s, h_e, T, N_data, epoch, n, n_A), grad_norm)\n"
   ]
  },
  {
   "cell_type": "markdown",
   "metadata": {},
   "source": [
    "## Sampling"
   ]
  },
  {
   "cell_type": "markdown",
   "metadata": {},
   "source": [
    "#### original"
   ]
  },
  {
   "cell_type": "code",
   "execution_count": null,
   "metadata": {},
   "outputs": [],
   "source": [
    "dev = qml.device(\"default.qubit\", wires=n)\n",
    "\n",
    "@qml.qnode(dev)\n",
    "def haar_state(weights, seed=None):\n",
    "    qml.RandomLayers(weights=weights, wires=range(n), seed=seed)\n",
    "    return qml.state()\n",
    "\n",
    "haar_state_jit = jax.jit(haar_state)\n",
    "\n",
    "S_x = np.zeros(shape=(N_data, 2**n), dtype=np.complex128)\n",
    "for i in range(N_data):\n",
    "    n_layers = 3\n",
    "    weights = np.random.uniform(-np.pi, np.pi, size=(n_layers, 3))\n",
    "    seed = np.random.randint(0, N_data*100)\n",
    "    S_x[i] = haar_state(weights, seed)"
   ]
  },
  {
   "cell_type": "markdown",
   "metadata": {},
   "source": [
    "#### improved"
   ]
  },
  {
   "cell_type": "code",
   "execution_count": null,
   "metadata": {},
   "outputs": [],
   "source": [
    "# S_x = np.zeros(shape=(N_All_set, 2**n), dtype=np.complex128)\n",
    "# S_x[:, 0] = 1.\n",
    "# S_x = forward_nosiy_process(S_x, diff_hs)\n",
    "\n",
    "# sample_index = np.random.choice(np.arange(0, N_All_set), size=N_data, replace=False)\n",
    "# S_x=S_x[-1, sample_index]"
   ]
  },
  {
   "cell_type": "code",
   "execution_count": null,
   "metadata": {},
   "outputs": [],
   "source": [
    "def kl_divergence(p, q):\n",
    "    p = np.array(p)\n",
    "    q = np.array(q)\n",
    "    \n",
    "    kl = np.sum(kl_div(p, q))/p.shape[0]\n",
    "    return kl"
   ]
  },
  {
   "cell_type": "code",
   "execution_count": null,
   "metadata": {},
   "outputs": [],
   "source": [
    "theta = np.load('data/%s/params/h%d_%dT%dNDate%depoch%dn%dn_A%d.npy'%(file_path, h_s, h_e, T, N_data, epoch, n, n_A))\n",
    "S_y = np.load('data/%s/state_diff/h%d_%dT%dNDate%depoch%dn%dn_A%d.npy'%(file_path, h_s, h_e, T, N_data, epoch, n, n_A))\n",
    "\n",
    "kl=np.zeros((T))\n",
    "\n",
    "for t in range(T-1, -1, -1):\n",
    "    y_sample_index = np.random.choice(np.arange(0, N_All_set), size=N_data, replace=False)\n",
    "    S_y_t = S_y[0, y_sample_index]\n",
    "    S_x = get_worker_state(S_x, theta[t])\n",
    "    for i in range(N_data):\n",
    "        for j in range(N_data):\n",
    "            np.abs(S_y_t) ** 2\n",
    "            kl[t]+=kl_divergence(np.abs(S_y_t[i])**2, np.abs(S_x[j])**2)\n",
    "    kl[t]=kl[t]/(N_data**2)\n",
    "\n",
    "np.save('data/%s/kl/h%d_%dT%dNDate%depoch%dn%dn_A%dlr%d'%(file_path, h_s, h_e, T, N_data, epoch, n, n_A, lr), kl)"
   ]
  }
 ],
 "metadata": {
  "kernelspec": {
   "display_name": "QDM",
   "language": "python",
   "name": "python3"
  },
  "language_info": {
   "codemirror_mode": {
    "name": "ipython",
    "version": 3
   },
   "file_extension": ".py",
   "mimetype": "text/x-python",
   "name": "python",
   "nbconvert_exporter": "python",
   "pygments_lexer": "ipython3",
   "version": "3.9.18"
  }
 },
 "nbformat": 4,
 "nbformat_minor": 2
}
